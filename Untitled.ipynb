{
 "cells": [
  {
   "cell_type": "markdown",
   "id": "d1dcf7e5-be34-4837-9b5b-a7f4db496b34",
   "metadata": {},
   "source": [
    "<img src=\"\"></img>"
   ]
  },
  {
   "cell_type": "markdown",
   "id": "9d6727f0-a858-4bc8-a2e3-42270d0a38c4",
   "metadata": {},
   "source": [
    "<img src=\"\"></img>"
   ]
  },
  {
   "cell_type": "markdown",
   "id": "3cd55623-da4f-4e31-9e94-a5f50d98bab6",
   "metadata": {},
   "source": [
    "<iframe>frame body</iframe>"
   ]
  },
  {
   "cell_type": "code",
   "execution_count": null,
   "id": "4eb1f688-3b3b-406d-a576-19e02f043445",
   "metadata": {},
   "outputs": [],
   "source": []
  }
 ],
 "metadata": {
  "kernelspec": {
   "display_name": "Python 3 (ipykernel)",
   "language": "python",
   "name": "python3"
  },
  "language_info": {
   "codemirror_mode": {
    "name": "ipython",
    "version": 3
   },
   "file_extension": ".py",
   "mimetype": "text/x-python",
   "name": "python",
   "nbconvert_exporter": "python",
   "pygments_lexer": "ipython3",
   "version": "3.12.9"
  }
 },
 "nbformat": 4,
 "nbformat_minor": 5
}
