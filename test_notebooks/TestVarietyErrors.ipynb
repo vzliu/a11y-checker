{
 "cells": [
  {
   "cell_type": "markdown",
   "id": "55cd8cc6-fa6c-46aa-b410-1bb671b09186",
   "metadata": {},
   "source": [
    "## Headings Errors"
   ]
  },
  {
   "cell_type": "markdown",
   "id": "1ad811ad-6018-4129-9d18-493816e88c2c",
   "metadata": {
    "execution": {
     "iopub.execute_input": "2025-03-17T06:16:37.002758Z",
     "iopub.status.busy": "2025-03-17T06:16:37.002091Z",
     "iopub.status.idle": "2025-03-17T06:16:37.008358Z",
     "shell.execute_reply": "2025-03-17T06:16:37.007363Z",
     "shell.execute_reply.started": "2025-03-17T06:16:37.002703Z"
    }
   },
   "source": [
    "## heading 2"
   ]
  },
  {
   "cell_type": "markdown",
   "id": "48b2ce94-58f7-48f8-8168-edbd7c4ae3aa",
   "metadata": {},
   "source": [
    "Issue: Notebook missing h1 header at the top axe core rule ID heading-order\t"
   ]
  },
  {
   "cell_type": "markdown",
   "id": "cd407d5c-ea12-4acb-9df9-ea780b374d44",
   "metadata": {},
   "source": [
    "#### heading 4"
   ]
  },
  {
   "cell_type": "markdown",
   "id": "cba96a51-723a-4643-86d8-f86c93b26cbc",
   "metadata": {},
   "source": [
    "Issue: decrease by more than one level axe core rule ID heading-order\t"
   ]
  },
  {
   "cell_type": "markdown",
   "id": "38cb2cf2-bf0d-4c46-b3eb-c20a27dc2af7",
   "metadata": {},
   "source": [
    "## heading 2"
   ]
  },
  {
   "cell_type": "markdown",
   "id": "b55c865f-3d28-4fde-a07a-ca21e5bc514f",
   "metadata": {},
   "source": [
    "### heading 3"
   ]
  },
  {
   "cell_type": "markdown",
   "id": "5abe10a6-ffa3-4a43-920e-d2dc5c0be3c2",
   "metadata": {},
   "source": [
    "# heading 1"
   ]
  },
  {
   "cell_type": "markdown",
   "id": "2fe1175f-a55d-45e9-98cb-066cdeeeb38f",
   "metadata": {},
   "source": [
    "Issue: heading can't be higher level than first heading axe core rule ID heading-order\t"
   ]
  },
  {
   "cell_type": "markdown",
   "id": "e8756095-80c2-4247-abfb-752c4a8e54dd",
   "metadata": {},
   "source": [
    "#### heading 4"
   ]
  },
  {
   "cell_type": "markdown",
   "id": "4a39d4b3-4dc3-45c5-bb7c-593481a15489",
   "metadata": {},
   "source": [
    "Issue: heading can't jump more than one level axe core rule ID heading-order\t"
   ]
  },
  {
   "cell_type": "markdown",
   "id": "541812d0-2862-4281-a96d-3a49fcf69759",
   "metadata": {},
   "source": [
    "<!-- Table 1 -->\n",
    "<table>\n",
    "  <thead>\n",
    "    <tr>\n",
    "      <th id=\"outside-header\">External Header</th>\n",
    "    </tr>\n",
    "  </thead>\n",
    "</table>\n",
    "\n",
    "<!-- Table 2 -->\n",
    "<table>\n",
    "  <thead>\n",
    "    <tr>\n",
    "      <th id=\"name-header\">Name</th>\n",
    "      <th id=\"age-header\">Age</th>\n",
    "    </tr>\n",
    "  </thead>\n",
    "  <tbody>\n",
    "    <tr>\n",
    "      <!-- Incorrectly referencing a header from Table 1 -->\n",
    "      <td headers=\"outside-header\">John Doe</td>\n",
    "      <td headers=\"age-header\">30</td>\n",
    "    </tr>\n",
    "  </tbody>\n",
    "</table>"
   ]
  },
  {
   "cell_type": "markdown",
   "id": "08dc6b00-ae77-46dc-a986-7ecb07878d72",
   "metadata": {},
   "source": [
    "Table above should have td-headers-attr error because <td headers=\"outside-header\">John Doe</td> is referencing outside-header, which is<th> from Table 1, and is outside of the current table, axe core rule ID td-headers-attr\t"
   ]
  },
  {
   "cell_type": "markdown",
   "id": "a67c57d3-129d-4549-abb1-84ae402ed740",
   "metadata": {},
   "source": [
    "Issue: empty header above should error with axe core rule ID empty-heading\t"
   ]
  },
  {
   "cell_type": "markdown",
   "id": "41ffad5f-91c1-47a8-8fb2-d7c275713a2d",
   "metadata": {},
   "source": [
    "## Image Alt Text Errors"
   ]
  },
  {
   "cell_type": "markdown",
   "id": "5b31d2eb-b00b-4dd6-94ed-f13d647925e3",
   "metadata": {},
   "source": [
    "<img>"
   ]
  },
  {
   "cell_type": "markdown",
   "id": "eb8758fd-93ed-45db-a0f7-e181f0f85898",
   "metadata": {},
   "source": [
    "Issue: basic image with no alt text, axe core rule ID image-alt\t"
   ]
  },
  {
   "cell_type": "markdown",
   "id": "8d17e573-e1ba-4d90-acee-50ec8ec1088d",
   "metadata": {},
   "source": [
    "Image with no alt text (should error), axe core rule ID image-alt\t\n",
    "![](https://zumvet.com/blog/wp-content/uploads/2023/01/close-up-red-cat-with-green-eyes-looking-straight-towards-camera.jpg) "
   ]
  },
  {
   "cell_type": "markdown",
   "id": "04f665b7-a908-42f8-9d25-5607254e46c9",
   "metadata": {},
   "source": [
    "Image of cat compared to bread (should not error due to alt text)\n",
    "![Cat next to bread](https://www.kittyloaf.com/wp-content/uploads/2016/11/Uni_KittyLoaf_112916.jpg\n",
    ") "
   ]
  },
  {
   "cell_type": "markdown",
   "id": "f8158ac4-68c0-4a66-8e58-c1d1c52ee391",
   "metadata": {},
   "source": [
    "Puppy with no alt tag (should error), axe core rule id image-alt\t\n",
    "![](https://hips.hearstapps.com/hmg-prod/images/dog-puppy-on-garden-royalty-free-image-1586966191.jpg?)"
   ]
  },
  {
   "cell_type": "markdown",
   "id": "6396ec32-2f3d-456f-8887-577e4f66e9e5",
   "metadata": {},
   "source": [
    "Various plots generated by matplotlib, axe core rule ID image-alt\t\n",
    "![](https://www.machinelearningplus.com/wp-content/uploads/2019/01/20_Histogram_Boxplot_TimeSeries_Matplotlib-min.png)"
   ]
  },
  {
   "cell_type": "markdown",
   "id": "884f70d1-2c27-4f04-a89c-29ab5edeb4bd",
   "metadata": {},
   "source": [
    "Line graph with no alt text, axe core rule ID image-alt\t\n",
    "![](https://www.w3schools.com/python/img_matplotlib_line_two.png)"
   ]
  },
  {
   "cell_type": "markdown",
   "id": "105d51f3-c508-470f-9d44-4368f770c6b7",
   "metadata": {},
   "source": [
    "UK Election Graph\n",
    "![UK Election Graph](https://anvil.works/blog/img/plotting-in-python/matplotlib.png)"
   ]
  },
  {
   "cell_type": "markdown",
   "id": "5363356b-fbfb-443b-8f7c-8c17d038123a",
   "metadata": {},
   "source": [
    "<img alt=\"d\" src=\"https://upload.wikimedia.org/wikipedia/commons/thumb/4/47/PNG_transparency_demonstration_1.png/640px-PNG_transparency_demonstration_1.png\"></img>"
   ]
  },
  {
   "cell_type": "markdown",
   "id": "a9aa5555-fab7-46c7-935b-d32aeba86621",
   "metadata": {},
   "source": [
    "## Color Errors"
   ]
  },
  {
   "cell_type": "markdown",
   "id": "0787c492-4e9d-48b7-859a-d373297c908c",
   "metadata": {
    "execution": {
     "iopub.execute_input": "2025-03-17T06:20:30.864761Z",
     "iopub.status.busy": "2025-03-17T06:20:30.864383Z",
     "iopub.status.idle": "2025-03-17T06:20:30.872787Z",
     "shell.execute_reply": "2025-03-17T06:20:30.870971Z",
     "shell.execute_reply.started": "2025-03-17T06:20:30.864732Z"
    }
   },
   "source": [
    "<span style=\"color:#C8C8F9\">some *blue* text that should be way too light for WCAG AA and AAA</span> axe core rule id color-contrast\t\n"
   ]
  },
  {
   "cell_type": "markdown",
   "id": "622f5a21-a79c-413a-96b0-bf3855985b14",
   "metadata": {},
   "source": [
    "<span style=\"color:#BABABA\">some *grey* text that should be way too light for WCAG AA and AAA</span> axe core rule id color-contrast\t"
   ]
  },
  {
   "cell_type": "markdown",
   "id": "c9d650f5-99d1-4dfb-8422-2fdf3f893602",
   "metadata": {},
   "source": [
    "<div style=\"background-color: black; color: white; padding: 1em; border-radius: 8px;\">\n",
    "  <h2>Dark Mode</h2>\n",
    "  <p>This text is white on a black background.</p>\n",
    "  <ul>\n",
    "    <li>Dark mode is easier on the eyes</li>\n",
    "    <li>Should not error</li>\n",
    "  </ul>\n",
    "</div>"
   ]
  },
  {
   "cell_type": "markdown",
   "id": "7410b419-4fa4-4f20-b452-6802fce8c522",
   "metadata": {},
   "source": [
    "<div style=\"background-color: black; color: #424242; padding: 1em; border-radius: 8px;\">\n",
    "  <h2>Dark Mode</h2>\n",
    "  <p>This text should be barely readable.</p>\n",
    "  <ul>\n",
    "    <li>Dark mode is easier on the eyes</li>\n",
    "    <li>Should error</li>\n",
    "  </ul>\n",
    "</div>"
   ]
  },
  {
   "cell_type": "markdown",
   "id": "411573b9-8863-47d3-9dbe-3051e77f8944",
   "metadata": {},
   "source": [
    "<div style=\"background-color: #38ABC2; color: #2F8798; padding: 1em; border-radius: 8px;\">\n",
    "  <h2>Blue Mode</h2>\n",
    "  <p>This text should be barely readable.</p>\n",
    "  <ul>\n",
    "    <li>blah blah</li>\n",
    "    <li>Should error</li>\n",
    "  </ul>\n",
    "</div>"
   ]
  },
  {
   "cell_type": "code",
   "execution_count": 3,
   "id": "3386ea93-0e33-4a5b-9945-a910d3ecc977",
   "metadata": {
    "execution": {
     "iopub.execute_input": "2025-03-17T06:21:23.740764Z",
     "iopub.status.busy": "2025-03-17T06:21:23.740371Z",
     "iopub.status.idle": "2025-03-17T06:21:24.741625Z",
     "shell.execute_reply": "2025-03-17T06:21:24.740800Z",
     "shell.execute_reply.started": "2025-03-17T06:21:23.740734Z"
    }
   },
   "outputs": [
    {
     "data": {
      "image/png": "[encoded data removed]",
      "text/plain": [
       "<Figure size 800x600 with 1 Axes>"
      ]
     },
     "metadata": {},
     "output_type": "display_data"
    }
   ],
   "source": [
    "import matplotlib.pyplot as plt\n",
    "import numpy as np\n",
    "\n",
    "# Data\n",
    "x = np.linspace(0, 10, 100)\n",
    "y1 = np.sin(x)\n",
    "y2 = np.cos(x)\n",
    "\n",
    "# Create plot\n",
    "plt.figure(figsize=(8, 6))\n",
    "\n",
    "# Sine curve with poor color contrast and poor transparency\n",
    "plt.plot(x, y1, label='Sine', color='blue')\n",
    "plt.plot(x, y2, label='Cosine', color='red')\n",
    "\n",
    "# Cosine curve with poor color contrast\n",
    "\n",
    "# Unstructured header (just a plain text, no structure)\n",
    "# plt.text(0.25, 0.5, 'Graph Text', fontsize=30, color='black')\n",
    "plt.title(\"My Title\", fontsize=20, color=\"grey\")\n",
    "\n",
    "plt.xticks([])\n",
    "plt.yticks([])\n",
    "\n",
    "plt.show()"
   ]
  },
  {
   "cell_type": "markdown",
   "id": "8b2b0723-b54d-4048-b38a-3b2bda56a8f1",
   "metadata": {},
   "source": [
    "## ARIA Errors"
   ]
  },
  {
   "cell_type": "markdown",
   "id": "5d4e6830-de0b-4233-85b6-22c813db8ceb",
   "metadata": {},
   "source": [
    "<input role=\"textbox\">"
   ]
  },
  {
   "cell_type": "markdown",
   "id": "c3e68a74-6c54-4a92-bf57-60173fc52bf7",
   "metadata": {},
   "source": [
    "Issue: ARIA role (textbox) but no label or accessible name, axe core rule ID aria-input-field-name\t"
   ]
  },
  {
   "cell_type": "markdown",
   "id": "b873eb79-0544-4875-8107-0a0537d4f7cd",
   "metadata": {},
   "source": [
    "<label for=\"email\">Email Address</label>\n",
    "<input type=\"email\" id=\"email\" name=\"email\">"
   ]
  },
  {
   "cell_type": "markdown",
   "id": "f0726ca9-d446-4413-8cd4-bb188498f262",
   "metadata": {},
   "source": [
    "Passing example due to accessible name"
   ]
  },
  {
   "cell_type": "markdown",
   "id": "acdc33d3-7f5c-4d8c-89ec-d14b30ec7c45",
   "metadata": {},
   "source": [
    "<body aria-hidden=\"true\">\n",
    "  <p>Content hidden to screen readers.</p>\n",
    "</body>"
   ]
  },
  {
   "cell_type": "markdown",
   "id": "615a4633-9e43-4b8f-b2dc-cd7ecada1d8b",
   "metadata": {},
   "source": [
    "Issue: Everything inside <body> is hidden from screen readers, which makes content above completely inaccessible, axe core rule ID aria-hidden-body\t\n"
   ]
  },
  {
   "cell_type": "markdown",
   "id": "b0f3a792-5d99-4876-8c89-059714157c11",
   "metadata": {},
   "source": [
    "## Button Error"
   ]
  },
  {
   "cell_type": "markdown",
   "id": "997788f7-8c58-44c3-bc83-904c9dc7e6b2",
   "metadata": {},
   "source": [
    "<button></button>"
   ]
  },
  {
   "cell_type": "markdown",
   "id": "8ccbf5bd-ddf2-443c-a16d-59245c72580b",
   "metadata": {},
   "source": [
    "Issue: no discernible text for button, axe core rule ID button-name\t"
   ]
  },
  {
   "cell_type": "code",
   "execution_count": null,
   "id": "75d9e02c-4818-43f7-a05d-f320f97abf8c",
   "metadata": {},
   "outputs": [],
   "source": []
  }
 ],
 "metadata": {
  "kernelspec": {
   "display_name": "Python 3 (ipykernel)",
   "language": "python",
   "name": "python3"
  },
  "language_info": {
   "codemirror_mode": {
    "name": "ipython",
    "version": 3
   },
   "file_extension": ".py",
   "mimetype": "text/x-python",
   "name": "python",
   "nbconvert_exporter": "python",
   "pygments_lexer": "ipython3",
   "version": "3.12.9"
  }
 },
 "nbformat": 4,
 "nbformat_minor": 5
}
