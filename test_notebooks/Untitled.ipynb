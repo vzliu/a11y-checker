{
 "cells": [
  {
   "cell_type": "markdown",
   "id": "05748111-31bb-43f4-8836-874e8b5225f2",
   "metadata": {},
   "source": [
    "<img>"
   ]
  },
  {
   "cell_type": "code",
   "execution_count": null,
   "id": "796c0658-af1f-4c4a-8657-2a277d70a1d2",
   "metadata": {},
   "outputs": [],
   "source": []
  }
 ],
 "metadata": {
  "kernelspec": {
   "display_name": "Python 3 (ipykernel)",
   "language": "python",
   "name": "python3"
  },
  "language_info": {
   "codemirror_mode": {
    "name": "ipython",
    "version": 3
   },
   "file_extension": ".py",
   "mimetype": "text/x-python",
   "name": "python",
   "nbconvert_exporter": "python",
   "pygments_lexer": "ipython3",
   "version": "3.12.9"
  }
 },
 "nbformat": 4,
 "nbformat_minor": 5
}
