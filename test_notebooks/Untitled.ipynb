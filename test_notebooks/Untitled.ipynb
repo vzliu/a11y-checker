{
 "cells": [
  {
   "cell_type": "markdown",
   "id": "229bbca1-94e4-41ec-9fa4-1ce11675c9dc",
   "metadata": {},
   "source": [
    "<img><img>"
   ]
  },
  {
   "cell_type": "code",
   "execution_count": null,
   "id": "cf3bfb57-0c74-432c-8dd0-3ba687b4323e",
   "metadata": {},
   "outputs": [],
   "source": []
  }
 ],
 "metadata": {
  "kernelspec": {
   "display_name": "Python 3 (ipykernel)",
   "language": "python",
   "name": "python3"
  },
  "language_info": {
   "codemirror_mode": {
    "name": "ipython",
    "version": 3
   },
   "file_extension": ".py",
   "mimetype": "text/x-python",
   "name": "python",
   "nbconvert_exporter": "python",
   "pygments_lexer": "ipython3",
   "version": "3.12.9"
  }
 },
 "nbformat": 4,
 "nbformat_minor": 5
}
