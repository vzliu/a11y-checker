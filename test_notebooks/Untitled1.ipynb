{
 "cells": [
  {
   "cell_type": "markdown",
   "id": "22587256-1f00-430d-adb8-6dd07d42e8aa",
   "metadata": {},
   "source": [
    "### header 3"
   ]
  },
  {
   "cell_type": "markdown",
   "id": "302d4a5b-a135-4027-9e49-d84cdb6d7857",
   "metadata": {},
   "source": [
    "# header 1"
   ]
  },
  {
   "cell_type": "code",
   "execution_count": null,
   "id": "4a07b510-a4df-400b-a9c3-937af755613f",
   "metadata": {},
   "outputs": [],
   "source": []
  }
 ],
 "metadata": {
  "kernelspec": {
   "display_name": "Python 3 (ipykernel)",
   "language": "python",
   "name": "python3"
  },
  "language_info": {
   "codemirror_mode": {
    "name": "ipython",
    "version": 3
   },
   "file_extension": ".py",
   "mimetype": "text/x-python",
   "name": "python",
   "nbconvert_exporter": "python",
   "pygments_lexer": "ipython3",
   "version": "3.12.9"
  }
 },
 "nbformat": 4,
 "nbformat_minor": 5
}
