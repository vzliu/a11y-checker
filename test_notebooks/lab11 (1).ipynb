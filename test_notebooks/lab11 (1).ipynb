{
 "cells": [
  {
   "cell_type": "code",
   "execution_count": 49,
   "id": "1ea205e9",
   "metadata": {
    "deletable": false,
    "editable": false
   },
   "outputs": [],
   "source": [
    "# Initialize Otter\n",
    "import otter\n",
    "grader = otter.Notebook(\"lab11.ipynb\")"
   ]
  },
  {
   "cell_type": "markdown",
   "id": "a3b58c9b",
   "metadata": {},
   "source": [
    "# Lab 11: Climate Part 2\n",
    "\n",
    "Welcome to Lab 11!\n",
    "\n",
    "This Lab will see you complete your analysis from the previous lab by assessing the impact of drought. \n",
    "\n"
   ]
  },
  {
   "cell_type": "markdown",
   "id": "da6f4717",
   "metadata": {},
   "source": [
    "**Getting help on lab**: Whenever you feel stuck or need some further clarification, find a GSI or tutor, and they'll be happy to help!\n",
    "\n",
    "Here are the policies for getting full credit:\n",
    "\n",
    "1. For students enrolled in in-person <span style=\"color: #BC412B\">**Regular Labs**</span>, you will receive lab credit by **attending** lab section and making significant progress on the lab notebook. You **<span style=\"text-decoration: underline\">do not</span>** need to submit this assignment to Gradescope.\n",
    "\n",
    "2. For students enrolled in <span style=\"color: #04888B\">**Self-Service Lab**</span>, you will receive lab credit by **completing** the notebook, passing the test cases, and **submitting** it to Gradescope by **11:59pm on the due date**.\n",
    "\n",
    "**Submission**: Once you’re finished, run all cells besides the last one, select File > Save Notebook, and then execute the final cell. The result will contain a zip file that you can use to submit on Gradescope.\n",
    "\n",
    "Let's begin by setting up the tests and imports by running the cell below."
   ]
  },
  {
   "cell_type": "code",
   "execution_count": 50,
   "id": "a7880d74",
   "metadata": {},
   "outputs": [],
   "source": [
    "# Run this cell to set up the notebook, but please don't change it.\n",
    "from datascience import *\n",
    "import numpy as np\n",
    "\n",
    "%matplotlib inline\n",
    "import matplotlib.pyplot as plt\n",
    "plt.style.use('fivethirtyeight')\n",
    "np.set_printoptions(legacy='1.13')\n",
    "\n",
    "import warnings\n",
    "warnings.simplefilter('ignore')"
   ]
  },
  {
   "cell_type": "markdown",
   "id": "5fc91aeb",
   "metadata": {
    "tags": []
   },
   "source": [
    "# Part 2: Drought"
   ]
  },
  {
   "cell_type": "markdown",
   "id": "634457a3",
   "metadata": {},
   "source": [
    "According to the [United States Environmental Protection Agency](https://www.epa.gov/climate-indicators/southwest), \"Large portions of the Southwest have experienced drought conditions since weekly Drought Monitor records began in 2000. For extended periods from 2002 to 2005 and from 2012 to 2020, nearly the entire region was abnormally dry or even drier.\" \n",
    "\n",
    "Assessing the impact of drought is challenging with just city-level data because so much of the water that people use is transported from elsewhere, but we'll explore the data we have and see what we can learn.\n",
    "\n",
    "Let's first take a look at the precipitation data in the Southwest region. The `southwest.csv` file contains total annual precipitation for 13 cities in the southwestern United States for each year from 1960 to 2021. This dataset is aggregated from the daily data and includes only the Southwest cities from the original dataset that have consistent precipitation records back to 1960."
   ]
  },
  {
   "cell_type": "code",
   "execution_count": 51,
   "id": "d51fa782",
   "metadata": {},
   "outputs": [
    {
     "data": {
      "text/html": [
       "<table border=\"1\" class=\"dataframe\">\n",
       "    <thead>\n",
       "        <tr>\n",
       "            <th>City</th> <th>Year</th> <th>Total Precipitation</th>\n",
       "        </tr>\n",
       "    </thead>\n",
       "    <tbody>\n",
       "        <tr>\n",
       "            <td>Albuquerque</td> <td>1960</td> <td>8.12               </td>\n",
       "        </tr>\n",
       "        <tr>\n",
       "            <td>Albuquerque</td> <td>1961</td> <td>8.87               </td>\n",
       "        </tr>\n",
       "        <tr>\n",
       "            <td>Albuquerque</td> <td>1962</td> <td>5.39               </td>\n",
       "        </tr>\n",
       "        <tr>\n",
       "            <td>Albuquerque</td> <td>1963</td> <td>7.47               </td>\n",
       "        </tr>\n",
       "        <tr>\n",
       "            <td>Albuquerque</td> <td>1964</td> <td>7.44               </td>\n",
       "        </tr>\n",
       "    </tbody>\n",
       "</table>\n",
       "<p>... (788 rows omitted)</p>"
      ],
      "text/plain": [
       "<IPython.core.display.HTML object>"
      ]
     },
     "metadata": {},
     "output_type": "display_data"
    }
   ],
   "source": [
    "southwest = Table.read_table('southwest.csv')\n",
    "southwest.show(5)"
   ]
  },
  {
   "cell_type": "markdown",
   "id": "dbed1948",
   "metadata": {},
   "source": [
    "**Question 2.1.** Create a table `totals` that has one row for each year in chronological order. It should contain the following columns:\n",
    "1. `\"Year\"`: The year (a number)\n",
    "2. `\"Precipitation\"`: The total precipitation in all 13 southwestern cities that year\n"
   ]
  },
  {
   "cell_type": "code",
   "execution_count": 52,
   "id": "7c4a3315",
   "metadata": {
    "tags": []
   },
   "outputs": [
    {
     "data": {
      "text/html": [
       "<table border=\"1\" class=\"dataframe\">\n",
       "    <thead>\n",
       "        <tr>\n",
       "            <th>Year</th> <th>Precipitation</th>\n",
       "        </tr>\n",
       "    </thead>\n",
       "    <tbody>\n",
       "        <tr>\n",
       "            <td>1960</td> <td>149.58       </td>\n",
       "        </tr>\n",
       "        <tr>\n",
       "            <td>1961</td> <td>134.82       </td>\n",
       "        </tr>\n",
       "        <tr>\n",
       "            <td>1962</td> <td>130.41       </td>\n",
       "        </tr>\n",
       "        <tr>\n",
       "            <td>1963</td> <td>132.18       </td>\n",
       "        </tr>\n",
       "        <tr>\n",
       "            <td>1964</td> <td>123.41       </td>\n",
       "        </tr>\n",
       "        <tr>\n",
       "            <td>1965</td> <td>187.53       </td>\n",
       "        </tr>\n",
       "        <tr>\n",
       "            <td>1966</td> <td>120.27       </td>\n",
       "        </tr>\n",
       "        <tr>\n",
       "            <td>1967</td> <td>179.02       </td>\n",
       "        </tr>\n",
       "        <tr>\n",
       "            <td>1968</td> <td>136.25       </td>\n",
       "        </tr>\n",
       "        <tr>\n",
       "            <td>1969</td> <td>191.72       </td>\n",
       "        </tr>\n",
       "    </tbody>\n",
       "</table>\n",
       "<p>... (51 rows omitted)</p>"
      ],
      "text/plain": [
       "Year | Precipitation\n",
       "1960 | 149.58\n",
       "1961 | 134.82\n",
       "1962 | 130.41\n",
       "1963 | 132.18\n",
       "1964 | 123.41\n",
       "1965 | 187.53\n",
       "1966 | 120.27\n",
       "1967 | 179.02\n",
       "1968 | 136.25\n",
       "1969 | 191.72\n",
       "... (51 rows omitted)"
      ]
     },
     "execution_count": 52,
     "metadata": {},
     "output_type": "execute_result"
    }
   ],
   "source": [
    "totals = southwest.select(\"Year\", \"Total Precipitation\").group(\"Year\", sum).relabeled(\"Total Precipitation sum\", \"Precipitation\")\n",
    "totals"
   ]
  },
  {
   "cell_type": "code",
   "execution_count": 53,
   "id": "2906dae7",
   "metadata": {
    "deletable": false,
    "editable": false
   },
   "outputs": [
    {
     "data": {
      "text/html": [
       "<p><strong><pre style='display: inline;'>q2_1</pre></strong> passed! 🌈</p>"
      ],
      "text/plain": [
       "q2_1 results: All test cases passed!"
      ]
     },
     "execution_count": 53,
     "metadata": {},
     "output_type": "execute_result"
    }
   ],
   "source": [
    "grader.check(\"q2_1\")"
   ]
  },
  {
   "cell_type": "markdown",
   "id": "0acc6eea",
   "metadata": {},
   "source": [
    "Run the cell below to plot the total precipitation in these cities over time, so that we can try to spot the drought visually. As a reminder, the drought years given by the EPA were  (2002-2005) and (2012-2020)."
   ]
  },
  {
   "cell_type": "code",
   "execution_count": 54,
   "id": "0f6791ec",
   "metadata": {},
   "outputs": [
    {
     "data": {
      "image/png": "[encoded data removed]",
      "text/plain": [
       "<Figure size 600x600 with 1 Axes>"
      ]
     },
     "metadata": {},
     "output_type": "display_data"
    }
   ],
   "source": [
    "# Just run this cell\n",
    "totals.plot(\"Year\", \"Precipitation\")"
   ]
  },
  {
   "cell_type": "markdown",
   "id": "acf26fe5",
   "metadata": {},
   "source": [
    "This plot isn't very revealing. Each year has a different amount of precipitation, and there is quite a bit of variability across years, as if each year's precipitation is a random draw from a distribution of possible outcomes. \n",
    "\n",
    "Could it be that these so-called \"drought conditions\" from 2002-2005 and 2012-2020 can be explained by chance? In other words, could it be that the annual precipitation amounts in the Southwest for these drought years are like **random draws from the same underlying distribution** as for other years? Perhaps nothing about the Earth's precipitation patterns has really changed, and the Southwest U.S. just happened to experience a few dry years close together. \n",
    "\n",
    "To assess this idea, let's conduct an A/B test in which **each year's total precipitation** is an outcome, and the condition is **whether or not the year is in the EPA's drought period**."
   ]
  },
  {
   "cell_type": "markdown",
   "id": "8e18aba6",
   "metadata": {},
   "source": [
    "This `drought_label` function distinguishes between drought years as described in the U.S. EPA statement above (2002-2005 and 2012-2020) and other years. Note that the label \"other\" is perhaps misleading, since there were other droughts before 2000, such as the massive [1988 drought](https://en.wikipedia.org/wiki/1988%E2%80%9390_North_American_drought) that affected much of the U.S. However, if we're interested in whether these modern drought periods (2002-2005 and 2012-2020) are *normal* or *abnormal*, it makes sense to distinguish the years in this way. "
   ]
  },
  {
   "cell_type": "code",
   "execution_count": 55,
   "id": "b8c13e9e",
   "metadata": {},
   "outputs": [],
   "source": [
    "def drought_label(n):\n",
    "    \"\"\"Return the label for an input year n.\"\"\"\n",
    "    if 2002 <= n <= 2005 or 2012 <= n <= 2020:\n",
    "        return 'drought'\n",
    "    else:\n",
    "        return 'other'"
   ]
  },
  {
   "cell_type": "markdown",
   "id": "7ddb1cdf",
   "metadata": {},
   "source": [
    "<!-- BEGIN QUESTION -->\n",
    "\n",
    "**Question 2.2.** Define null and alternative hypotheses for an A/B test that investigates whether drought years are **drier** (have less precipitation) than other years.\n",
    "\n",
    "*Note:* Please format your answer using the following structure.\n",
    "\n",
    "- *Null hypothesis:* ...\n",
    "- *Alternative hypothesis:* ...\n",
    "\n",
    "\n",
    "![](\"hello.png\")"
   ]
  },
  {
   "cell_type": "markdown",
   "id": "02be5cdd",
   "metadata": {},
   "source": [
    "_Type your answer here, replacing this text._"
   ]
  },
  {
   "cell_type": "markdown",
   "id": "9a76f37d",
   "metadata": {},
   "source": [
    "<!-- END QUESTION -->\n",
    "\n",
    "<!-- BEGIN QUESTION -->\n",
    "\n",
    "**Question 2.3.** First, define the table `drought`. It should contain one row per year and the following two columns:\n",
    "- `\"Label\"`: Denotes if a year is part of a `\"drought\"` year or an `\"other\"` year\n",
    "- `\"Precipitation\"`: The sum of the total precipitation in 13 Southwest cities that year\n",
    "\n",
    "Then, construct an overlaid histogram of two observed distributions: the total precipitation in drought years and the total precipitation in other years. \n",
    "\n",
    "*Note*: Use the provided `bins` when creating your histogram, and do not re-assign the `southwest` table. Feel free to use as many lines as you need!\n",
    "\n",
    "*Hint*: The optional `group` argument in a certain function might be helpful!\n"
   ]
  },
  {
   "cell_type": "code",
   "execution_count": 56,
   "id": "01298c8b",
   "metadata": {
    "tags": []
   },
   "outputs": [
    {
     "data": {
      "image/png": "[encoded data removed]",
      "text/plain": [
       "<Figure size 600x400 with 1 Axes>"
      ]
     },
     "metadata": {},
     "output_type": "display_data"
    }
   ],
   "source": [
    "bins = np.arange(85, 215+1, 13)\n",
    "drought = totals.with_column(\"Label\", totals.apply(drought_label, \"Year\"))\n",
    "drought\n",
    "drought.hist(\"Precipitation\", bins = bins, group = \"Label\")\n",
    "# ..."
   ]
  },
  {
   "cell_type": "markdown",
   "id": "22ecd05e",
   "metadata": {},
   "source": [
    "<!-- END QUESTION -->\n",
    "\n",
    "Before you continue, inspect the histogram you just created and try to guess the conclusion of the A/B test. Building intuition about the result of hypothesis testing from visualizations is quite useful for data science applications. "
   ]
  },
  {
   "cell_type": "markdown",
   "id": "d1f76e26",
   "metadata": {},
   "source": [
    "**Question 2.4.** Our next step is to choose a test statistic based on our alternative hypothesis in Question 2.2. Which of the following options are valid choices for the test statistic? Assign `ab_test_stat` to **an array of integers** corresponding to valid choices. Assume averages and totals are taken over the total precipitation sums for each year.\n",
    "\n",
    "1. The difference between the **total** precipitation in **drought** years and the **total** precipitation in **other** years.\n",
    "2. The difference between the **total** precipitation in **others** years and the **total** precipitation in **drought** years.\n",
    "3. The **absolute** difference between the **total** precipitation in others years and the **total** precipitation in drought years.\n",
    "1. The difference between the **average** precipitation in **drought** years and the **average** precipitation in **other** years.\n",
    "2. The difference between the **average** precipitation in **others** years and the **average** precipitation in **drought** years.\n",
    "3. The **absolute** difference between the **average** precipitation in others years and the **average** precipitation in drought years.\n"
   ]
  },
  {
   "cell_type": "code",
   "execution_count": 57,
   "id": "a46dcde3",
   "metadata": {
    "tags": []
   },
   "outputs": [],
   "source": [
    "ab_test_stat = make_array(1)"
   ]
  },
  {
   "cell_type": "code",
   "execution_count": 58,
   "id": "1734a0aa",
   "metadata": {
    "deletable": false,
    "editable": false
   },
   "outputs": [
    {
     "data": {
      "text/html": [
       "<p><strong><pre style='display: inline;'>q2_4</pre></strong> passed! 💯</p>"
      ],
      "text/plain": [
       "q2_4 results: All test cases passed!"
      ]
     },
     "execution_count": 58,
     "metadata": {},
     "output_type": "execute_result"
    }
   ],
   "source": [
    "grader.check(\"q2_4\")"
   ]
  },
  {
   "cell_type": "markdown",
   "id": "11a5a872",
   "metadata": {},
   "source": [
    "<!-- BEGIN QUESTION -->\n",
    "\n",
    "**Question 2.5.** Fellow climate scientists Will and Nicole point out that there are more **other** years than **drought** years, and so measuring the difference between total precipitation will always favor the **other** years. They conclude that all of the options above involving **total** precipitation are invalid test statistic choices. Do you agree with them? Why or why not?\n"
   ]
  },
  {
   "cell_type": "markdown",
   "id": "843314b0",
   "metadata": {},
   "source": [
    "_Type your answer here, replacing this text._"
   ]
  },
  {
   "cell_type": "markdown",
   "id": "846822aa",
   "metadata": {},
   "source": [
    "<!-- END QUESTION -->\n",
    "\n",
    "Before going on, check your `drought` table. It should have two columns `Label` and `Precipitation` with 61 rows, 13 of which are for `\"drought\"` years."
   ]
  },
  {
   "cell_type": "code",
   "execution_count": 59,
   "id": "c149a181",
   "metadata": {},
   "outputs": [
    {
     "data": {
      "text/html": [
       "<table border=\"1\" class=\"dataframe\">\n",
       "    <thead>\n",
       "        <tr>\n",
       "            <th>Year</th> <th>Precipitation</th> <th>Label</th>\n",
       "        </tr>\n",
       "    </thead>\n",
       "    <tbody>\n",
       "        <tr>\n",
       "            <td>1960</td> <td>149.58       </td> <td>other</td>\n",
       "        </tr>\n",
       "        <tr>\n",
       "            <td>1961</td> <td>134.82       </td> <td>other</td>\n",
       "        </tr>\n",
       "        <tr>\n",
       "            <td>1962</td> <td>130.41       </td> <td>other</td>\n",
       "        </tr>\n",
       "    </tbody>\n",
       "</table>\n",
       "<p>... (58 rows omitted)</p>"
      ],
      "text/plain": [
       "<IPython.core.display.HTML object>"
      ]
     },
     "metadata": {},
     "output_type": "display_data"
    }
   ],
   "source": [
    "drought.show(3)"
   ]
  },
  {
   "cell_type": "code",
   "execution_count": 60,
   "id": "eda39f8b",
   "metadata": {},
   "outputs": [
    {
     "data": {
      "text/html": [
       "<table border=\"1\" class=\"dataframe\">\n",
       "    <thead>\n",
       "        <tr>\n",
       "            <th>Label</th> <th>count</th>\n",
       "        </tr>\n",
       "    </thead>\n",
       "    <tbody>\n",
       "        <tr>\n",
       "            <td>drought</td> <td>13   </td>\n",
       "        </tr>\n",
       "        <tr>\n",
       "            <td>other  </td> <td>48   </td>\n",
       "        </tr>\n",
       "    </tbody>\n",
       "</table>"
      ],
      "text/plain": [
       "Label   | count\n",
       "drought | 13\n",
       "other   | 48"
      ]
     },
     "execution_count": 60,
     "metadata": {},
     "output_type": "execute_result"
    }
   ],
   "source": [
    "drought.group('Label')"
   ]
  },
  {
   "cell_type": "markdown",
   "id": "e7e7556d",
   "metadata": {},
   "source": [
    "**Question 2.6.** For our A/B test, we'll use the difference between the average precipitation in drought years and the average precipitation in other years as our test statistic:\n",
    "\n",
    "$$\\text{average precipitation in \"drought\" years} - \\text{average precipitation in \"other\" years}$$\n",
    "\n",
    "First, complete the function `test_statistic`. It should take in a two-column table `t` with one row per year and two columns:\n",
    "- `Label`: the label for that year (either `'drought'` or `'other'`)\n",
    "- `Precipitation`: the total precipitation in the 13 Southwest cities that year. \n",
    "\n",
    "Then, use the function you define to assign `observed_statistic` to the observed test statistic.\n"
   ]
  },
  {
   "cell_type": "code",
   "execution_count": 61,
   "id": "7d76952a",
   "metadata": {
    "tags": []
   },
   "outputs": [
    {
     "data": {
      "text/plain": [
       "-15.856714743589748"
      ]
     },
     "execution_count": 61,
     "metadata": {},
     "output_type": "execute_result"
    }
   ],
   "source": [
    "def test_statistic(t):\n",
    "    obs = np.average(t.where('Label', are.equal_to('drought')).column('Precipitation')) - np.average(t.where('Label', are.equal_to('other')).column('Precipitation'))\n",
    "    return obs\n",
    "\n",
    "observed_statistic = test_statistic(drought)\n",
    "observed_statistic"
   ]
  },
  {
   "cell_type": "code",
   "execution_count": 62,
   "id": "05707622",
   "metadata": {
    "deletable": false,
    "editable": false
   },
   "outputs": [
    {
     "data": {
      "text/html": [
       "<p><strong><pre style='display: inline;'>q2_6</pre></strong> passed! 🚀</p>"
      ],
      "text/plain": [
       "q2_6 results: All test cases passed!"
      ]
     },
     "execution_count": 62,
     "metadata": {},
     "output_type": "execute_result"
    }
   ],
   "source": [
    "grader.check(\"q2_6\")"
   ]
  },
  {
   "cell_type": "markdown",
   "id": "e142edbd",
   "metadata": {},
   "source": [
    "Now that we have defined our hypotheses and test statistic, we are ready to conduct our hypothesis test. We’ll start by defining a function to simulate the test statistic under the null hypothesis, and then call that function 5,000 times to construct an empirical distribution under the null hypothesis."
   ]
  },
  {
   "cell_type": "markdown",
   "id": "40bb3df2",
   "metadata": {},
   "source": [
    "**Question 2.7.** Write a function to simulate the test statistic under the null hypothesis. The `simulate_precipitation_null` function should simulate the null hypothesis once (not 5,000 times) and return the value of the test statistic for that simulated sample.\n",
    "\n",
    "*Hint*: Using `t.with_column(...)` with a column name that already exists in a table `t` will replace that column with the newly specified values.\n"
   ]
  },
  {
   "cell_type": "code",
   "execution_count": 63,
   "id": "d5ead0ae",
   "metadata": {
    "tags": []
   },
   "outputs": [
    {
     "data": {
      "text/plain": [
       "9.4788141025641153"
      ]
     },
     "execution_count": 63,
     "metadata": {},
     "output_type": "execute_result"
    }
   ],
   "source": [
    "def simulate_precipitation_null():\n",
    "    sampled = drought.sample(with_replacement = False).column(\"Label\")\n",
    "    sampledTable = drought.drop(\"Label\").with_column(\"Label\", sampled)\n",
    "    stat = test_statistic(sampledTable)\n",
    "    return stat\n",
    "\n",
    "\n",
    "# Run your function a couple times to make sure that it works\n",
    "simulate_precipitation_null()"
   ]
  },
  {
   "cell_type": "code",
   "execution_count": 64,
   "id": "0d0c3970",
   "metadata": {
    "deletable": false,
    "editable": false
   },
   "outputs": [
    {
     "data": {
      "text/html": [
       "<p><strong><pre style='display: inline;'>q2_7</pre></strong> passed! ✨</p>"
      ],
      "text/plain": [
       "q2_7 results: All test cases passed!"
      ]
     },
     "execution_count": 64,
     "metadata": {},
     "output_type": "execute_result"
    }
   ],
   "source": [
    "grader.check(\"q2_7\")"
   ]
  },
  {
   "cell_type": "markdown",
   "id": "e975b101",
   "metadata": {},
   "source": [
    "**Question 2.8.** Fill in the blanks below to complete the simulation for the hypothesis test. Your simulation should compute 5,000 values of the test statistic under the null hypothesis and store the result in the array `sampled_stats`.\n",
    "\n",
    "*Hint:* You should use the `simulate_precipitation_null` function you wrote in the previous question!\n",
    "\n",
    "*Note:* Running this cell may take a few seconds. If it takes more than a minute, try to find a different (faster) way to implement your `simulate_precipitation_null` function.\n"
   ]
  },
  {
   "cell_type": "code",
   "execution_count": 65,
   "id": "ab66f8ab",
   "metadata": {
    "tags": []
   },
   "outputs": [
    {
     "data": {
      "image/png": "[encoded data removed]",
      "text/plain": [
       "<Figure size 600x400 with 1 Axes>"
      ]
     },
     "metadata": {},
     "output_type": "display_data"
    }
   ],
   "source": [
    "sampled_stats = make_array()\n",
    "\n",
    "repetitions = 5000\n",
    "for i in np.arange(repetitions):\n",
    "    sampled_stats = np.append(sampled_stats, simulate_precipitation_null())\n",
    "\n",
    "# Do not change these lines\n",
    "Table().with_column('Difference Between Means', sampled_stats).hist()\n",
    "plt.scatter(observed_statistic, 0, c=\"r\", s=50);\n",
    "plt.ylim(-0.01);"
   ]
  },
  {
   "cell_type": "code",
   "execution_count": 66,
   "id": "241e0bd5",
   "metadata": {
    "deletable": false,
    "editable": false
   },
   "outputs": [
    {
     "data": {
      "text/html": [
       "<p><strong><pre style='display: inline;'>q2_8</pre></strong> passed! ✨</p>"
      ],
      "text/plain": [
       "q2_8 results: All test cases passed!"
      ]
     },
     "execution_count": 66,
     "metadata": {},
     "output_type": "execute_result"
    }
   ],
   "source": [
    "grader.check(\"q2_8\")"
   ]
  },
  {
   "cell_type": "markdown",
   "id": "5a70d827",
   "metadata": {},
   "source": [
    "**Question 2.9.** Compute the p-value for this hypothesis test, and assign it to the variable `precipitation_p_val`.\n"
   ]
  },
  {
   "cell_type": "code",
   "execution_count": 67,
   "id": "76ddf1da",
   "metadata": {
    "tags": []
   },
   "outputs": [
    {
     "data": {
      "text/plain": [
       "0.5"
      ]
     },
     "execution_count": 67,
     "metadata": {},
     "output_type": "execute_result"
    }
   ],
   "source": [
    "precipitation_p_val = 0.5\n",
    "precipitation_p_val"
   ]
  },
  {
   "cell_type": "code",
   "execution_count": 68,
   "id": "4bf94c97",
   "metadata": {
    "deletable": false,
    "editable": false
   },
   "outputs": [
    {
     "data": {
      "text/html": [
       "<p><strong><pre style='display: inline;'>q2_9</pre></strong> passed! 🙌</p>"
      ],
      "text/plain": [
       "q2_9 results: All test cases passed!"
      ]
     },
     "execution_count": 68,
     "metadata": {},
     "output_type": "execute_result"
    }
   ],
   "source": [
    "grader.check(\"q2_9\")"
   ]
  },
  {
   "cell_type": "markdown",
   "id": "95088247",
   "metadata": {},
   "source": [
    "<!-- BEGIN QUESTION -->\n",
    "\n",
    "**Question 2.10.** State a conclusion from this test using a p-value cutoff of 5%. What have you learned about the EPA's statement on drought?\n"
   ]
  },
  {
   "cell_type": "markdown",
   "id": "7df7efbd",
   "metadata": {},
   "source": [
    "_Type your answer here, replacing this text._"
   ]
  },
  {
   "cell_type": "markdown",
   "id": "2eca4c61",
   "metadata": {},
   "source": [
    "<!-- END QUESTION -->\n",
    "\n",
    "<!-- BEGIN QUESTION -->\n",
    "\n",
    "**Question 2.11.** Does your conclusion from Question 2.10 apply to the entire Southwest region of the U.S.? Why or why not?\n"
   ]
  },
  {
   "cell_type": "markdown",
   "id": "8aaeb116",
   "metadata": {},
   "source": [
    "_Type your answer here, replacing this text._"
   ]
  },
  {
   "cell_type": "markdown",
   "id": "39039658",
   "metadata": {},
   "source": [
    "<!-- END QUESTION -->\n",
    "\n",
    "## Conclusion"
   ]
  },
  {
   "cell_type": "markdown",
   "id": "73cd05b0",
   "metadata": {},
   "source": [
    "Data science plays a central role in climate change research because massive simulations of the Earth's climate are necessary to assess the implications of climate data recorded from weather stations, satellites, and other sensors. [Berkeley Earth](http://berkeleyearth.org/data/) is a common source of data for these kinds of projects.\n",
    "\n",
    "In this project, we found ways to apply our statistical inference technqiues that rely on random sampling even in situations where the data were not generated randomly, but instead by some complicated natural process that appeared random. We made assumptions about randomness and then came to conclusions based on those assumptions. Great care must be taken to choose assumptions that are realistic, so that the resulting conclusions are not misleading. However, making assumptions about data can be productive when doing so allows inference techniques to apply to novel situations."
   ]
  },
  {
   "cell_type": "markdown",
   "id": "f9218555",
   "metadata": {},
   "source": [
    "<img src=\"Lily.png\" alt=\"Picture of a dog on a couch\" width=\"350\"/>\n",
    "\n",
    "**Congratulations -- Lily says you're done with the lab!**\n"
   ]
  },
  {
   "cell_type": "markdown",
   "id": "936bb88e",
   "metadata": {},
   "source": [
    "\n",
    "---\n",
    "\n",
    "You're done with lab!\n",
    "\n",
    "**Important submission information:** (Self Service Lab Only)\n",
    "- **Run all the tests** and verify that they all pass\n",
    "- **Save** from the **File** menu\n",
    "- **Run the final cell to generate the zip file**\n",
    "- **Click the link to download the zip file**\n",
    "- Then, go to [Gradescope](https://www.gradescope.com/courses/546043) and submit the zip file to the corresponding assignment. The name of this assignment is \"Lab XX Autograder\", where XX is the lab number -- 01, 02, 03, etc.\n",
    "\n",
    "- If you finish early in Regular Lab, **ask one of the staff members to check you off**.\n",
    "\n",
    "**It is your responsibility to make sure your work is saved before running the last cell.**\n"
   ]
  },
  {
   "cell_type": "markdown",
   "id": "77da1b60",
   "metadata": {
    "deletable": false,
    "editable": false
   },
   "source": [
    "## Submission\n",
    "\n",
    "Make sure you have run all cells in your notebook in order before running the cell below, so that all images/graphs appear in the output. The cell below will generate a zip file for you to submit. **Please save before exporting!**"
   ]
  },
  {
   "cell_type": "code",
   "execution_count": 69,
   "id": "ed4603ff",
   "metadata": {
    "deletable": false,
    "editable": false
   },
   "outputs": [
    {
     "name": "stdout",
     "output_type": "stream",
     "text": [
      "Running your submission against local test cases...\n",
      "\n",
      "\n",
      "\n",
      "Your submission received the following results when run against available test cases:\n",
      "\n",
      "    q2_1 results: All test cases passed!\n",
      "\n",
      "    q2_4 results: All test cases passed!\n",
      "\n",
      "    q2_6 results: All test cases passed!\n",
      "\n",
      "    q2_7 results: All test cases passed!\n",
      "\n",
      "    q2_8 results:\n",
      "        q2_8 - 1 result:\n",
      "            ❌ Test case failed\n",
      "            Trying:\n",
      "                len(sampled_stats) == 5000\n",
      "            Expecting:\n",
      "                True\n",
      "            **********************************************************************\n",
      "            Line 1, in q2_8 0\n",
      "            Failed example:\n",
      "                len(sampled_stats) == 5000\n",
      "            Exception raised:\n",
      "                Traceback (most recent call last):\n",
      "                  File \"/opt/conda/lib/python3.9/doctest.py\", line 1334, in __run\n",
      "                    exec(compile(example.source, filename, \"single\",\n",
      "                  File \"<doctest q2_8 0[0]>\", line 1, in <module>\n",
      "                    len(sampled_stats) == 5000\n",
      "                NameError: name 'sampled_stats' is not defined\n",
      "\n",
      "        q2_8 - 2 result:\n",
      "            ❌ Test case failed\n",
      "            Trying:\n",
      "                np.std(sampled_stats) > 0\n",
      "            Expecting:\n",
      "                True\n",
      "            **********************************************************************\n",
      "            Line 1, in q2_8 1\n",
      "            Failed example:\n",
      "                np.std(sampled_stats) > 0\n",
      "            Exception raised:\n",
      "                Traceback (most recent call last):\n",
      "                  File \"/opt/conda/lib/python3.9/doctest.py\", line 1334, in __run\n",
      "                    exec(compile(example.source, filename, \"single\",\n",
      "                  File \"<doctest q2_8 1[0]>\", line 1, in <module>\n",
      "                    np.std(sampled_stats) > 0\n",
      "                NameError: name 'sampled_stats' is not defined\n",
      "\n",
      "    q2_9 results:\n",
      "        q2_9 - 1 result:\n",
      "            ❌ Test case failed\n",
      "            Trying:\n",
      "                type(precipitation_p_val) in set([float, np.float32, np.float64])\n",
      "            Expecting:\n",
      "                True\n",
      "            **********************************************************************\n",
      "            Line 1, in q2_9 0\n",
      "            Failed example:\n",
      "                type(precipitation_p_val) in set([float, np.float32, np.float64])\n",
      "            Expected:\n",
      "                True\n",
      "            Got:\n",
      "                False\n",
      "\n",
      "        q2_9 - 2 result:\n",
      "            ❌ Test case failed\n",
      "            Trying:\n",
      "                0 <= precipitation_p_val <= 1\n",
      "            Expecting:\n",
      "                True\n",
      "            **********************************************************************\n",
      "            Line 1, in q2_9 1\n",
      "            Failed example:\n",
      "                0 <= precipitation_p_val <= 1\n",
      "            Exception raised:\n",
      "                Traceback (most recent call last):\n",
      "                  File \"/opt/conda/lib/python3.9/doctest.py\", line 1334, in __run\n",
      "                    exec(compile(example.source, filename, \"single\",\n",
      "                  File \"<doctest q2_9 1[0]>\", line 1, in <module>\n",
      "                    0 <= precipitation_p_val <= 1\n",
      "                TypeError: '<=' not supported between instances of 'int' and 'ellipsis'\n"
     ]
    },
    {
     "data": {
      "text/html": [
       "\n",
       "            <p>Your submission has been exported. Click <a href=\"lab11_2023_07_31T15_05_45_914945.zip\" download=\"lab11_2023_07_31T15_05_45_914945.zip\" target=\"_blank\">here</a>\n",
       "            to download the zip file.</p>\n",
       "            "
      ],
      "text/plain": [
       "<IPython.core.display.HTML object>"
      ]
     },
     "metadata": {},
     "output_type": "display_data"
    }
   ],
   "source": [
    "# Save your notebook first, then run this cell to export your submission.\n",
    "grader.export(pdf=False, run_tests=True)"
   ]
  },
  {
   "cell_type": "markdown",
   "id": "733f7bdd",
   "metadata": {},
   "source": [
    " "
   ]
  }
 ],
 "metadata": {
  "kernelspec": {
   "display_name": "Python 3 (ipykernel)",
   "language": "python",
   "name": "python3"
  },
  "language_info": {
   "codemirror_mode": {
    "name": "ipython",
    "version": 3
   },
   "file_extension": ".py",
   "mimetype": "text/x-python",
   "name": "python",
   "nbconvert_exporter": "python",
   "pygments_lexer": "ipython3",
   "version": "3.9.20"
  },
  "otter": {
   "OK_FORMAT": true,
   "tests": {
    "q2_1": {
     "name": "q2_1",
     "points": [
      0,
      1
     ],
     "suites": [
      {
       "cases": [
        {
         "code": ">>> totals.num_rows == 61\nTrue",
         "hidden": false,
         "locked": false
        },
        {
         "code": ">>> totals.labels == ('Year', 'Precipitation')\nTrue",
         "hidden": false,
         "locked": false
        }
       ],
       "scored": true,
       "setup": "",
       "teardown": "",
       "type": "doctest"
      }
     ]
    },
    "q2_4": {
     "name": "q2_4",
     "points": [
      0,
      0,
      2
     ],
     "suites": [
      {
       "cases": [
        {
         "code": ">>> type(ab_test_stat) == np.ndarray\nTrue",
         "hidden": false,
         "locked": false
        },
        {
         "code": ">>> all([1 <= option <= 6 for option in ab_test_stat])\nTrue",
         "hidden": false,
         "locked": false
        },
        {
         "code": ">>> all([type(option) in set([np.int64, np.int32, int]) for option in list(ab_test_stat)])\nTrue",
         "hidden": false,
         "locked": false
        }
       ],
       "scored": true,
       "setup": "",
       "teardown": "",
       "type": "doctest"
      }
     ]
    },
    "q2_6": {
     "name": "q2_6",
     "points": [
      1
     ],
     "suites": [
      {
       "cases": [
        {
         "code": ">>> observed_statistic < 0\nTrue",
         "hidden": false,
         "locked": false
        }
       ],
       "scored": true,
       "setup": "",
       "teardown": "",
       "type": "doctest"
      }
     ]
    },
    "q2_7": {
     "name": "q2_7",
     "points": [
      1
     ],
     "suites": [
      {
       "cases": [
        {
         "code": ">>> -50 < simulate_precipitation_null() < 50\nTrue",
         "hidden": false,
         "locked": false
        }
       ],
       "scored": true,
       "setup": "",
       "teardown": "",
       "type": "doctest"
      }
     ]
    },
    "q2_8": {
     "name": "q2_8",
     "points": [
      0,
      0
     ],
     "suites": [
      {
       "cases": [
        {
         "code": ">>> len(sampled_stats) == 5000\nTrue",
         "hidden": false,
         "locked": false
        },
        {
         "code": ">>> np.std(sampled_stats) > 0\nTrue",
         "hidden": false,
         "locked": false
        }
       ],
       "scored": true,
       "setup": "",
       "teardown": "",
       "type": "doctest"
      }
     ]
    },
    "q2_9": {
     "name": "q2_9",
     "points": [
      0,
      1
     ],
     "suites": [
      {
       "cases": [
        {
         "code": ">>> type(precipitation_p_val) in set([float, np.float32, np.float64])\nTrue",
         "hidden": false,
         "locked": false
        },
        {
         "code": ">>> 0 <= precipitation_p_val <= 1\nTrue",
         "hidden": false,
         "locked": false
        }
       ],
       "scored": true,
       "setup": "",
       "teardown": "",
       "type": "doctest"
      }
     ]
    }
   }
  }
 },
 "nbformat": 4,
 "nbformat_minor": 5
}
